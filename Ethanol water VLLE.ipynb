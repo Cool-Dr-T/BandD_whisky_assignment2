{
 "cells": [
  {
   "cell_type": "code",
   "execution_count": 1,
   "metadata": {},
   "outputs": [],
   "source": [
    "import math\n",
    "import numpy as np\n",
    "import matplotlib.pyplot as plt"
   ]
  },
  {
   "cell_type": "markdown",
   "metadata": {},
   "source": [
    "This workbook plots a binary mixture diagram using the Wilson model for fluid interactions and antoine's model for individual component vapour pressures."
   ]
  },
  {
   "cell_type": "code",
   "execution_count": 2,
   "metadata": {},
   "outputs": [],
   "source": [
    "reference_pressure=1.0123 # bar (be careful, the units in this are not great - engineers!)\n"
   ]
  },
  {
   "cell_type": "markdown",
   "metadata": {},
   "source": [
    "Defining constants and coefficients for the following calculations. Antoine parameters are given for mmHg (torr), which is traditional but not very helpful! Where possible I have tried to minimise the switching of unit systems and labelled all units used."
   ]
  },
  {
   "cell_type": "code",
   "execution_count": 3,
   "metadata": {},
   "outputs": [],
   "source": [
    "bar_to_torr=750.06376\n",
    "R=1.987 #kcal⋅K−1⋅mol−1\n",
    "\n",
    "# critical pressure (bar), critical temperature (K)\n",
    "# activity coefficient is a binary parameter, so the activity coefficient\n",
    "# is for water 'with respect to ethanol'\n",
    "ethanol={'A':18.91,\n",
    "         'B':3803.98,\n",
    "         'C':-41.68,\n",
    "         'pc':63.83,\n",
    "       'tc':516.20, \n",
    "       'Zra':0.2502,\n",
    "      'activity':325.08}\n",
    "water={'A':18.30,\n",
    "       'B':3816.44,\n",
    "       'C':-46.13,\n",
    "       'pc':220.48,\n",
    "       'tc':647.30, \n",
    "       'Zra':0.2338,\n",
    "      'activity':953.28}"
   ]
  },
  {
   "cell_type": "markdown",
   "metadata": {},
   "source": [
    "Now define functions to calculate the various parameters: Psat, Tsat, activity, and volume."
   ]
  },
  {
   "cell_type": "code",
   "execution_count": 4,
   "metadata": {},
   "outputs": [],
   "source": [
    "# calculations for saturation temperatures\n",
    "def calc_tsat_ethanol(pressure):\n",
    "    return ethanol['B']/(ethanol['A']-math.log(pressure*bar_to_torr))-ethanol['C'] # deg K\n",
    "\n",
    "def calc_tsat_water(pressure):\n",
    "    return water['B']/(water['A']-math.log(pressure*bar_to_torr))-water['C'] # deg K\n",
    "\n",
    "# calculations for molar volumes\n",
    "def calc_vm_ethanol(temperature):\n",
    "    return (83.14*(ethanol['tc']/ethanol['pc']))*ethanol['Zra']**(1+(1-(temperature/ethanol['tc']))**(2.0/7.0))\n",
    "\n",
    "def calc_vm_water(temperature):\n",
    "    return (83.14*(water['tc']/water['pc']))*water['Zra']**(1+(1-(temperature/water['tc']))**(2.0/7.0))\n",
    "\n",
    "# calculations for activity coefficient and Wilson model parameters\n",
    "def calc_activity(x,y12,y21):\n",
    "    return math.exp(-1*math.log(x+(1-x)*y12)+(1-x)*(y12/(x+(1-x)*y12)-y21/(1-x+x*y21)))\n",
    "\n",
    "def calc_y(t,v1,v2,activ):\n",
    "    return (v2/v1)*math.exp(-1*activ/(R*t))\n",
    "\n",
    "# back calculate saturatin pressure of the mixture from the given parameters\n",
    "def new_psat(x,p,t,L1,L2):\n",
    "    # replace 1.0 with bar_to_torr to return torr - stupid engineering calculations!\n",
    "    return (p*1.0)/(x*L1+(1-x)*L2*math.exp(water['A']-water['B']/(t+water['C']))/math.exp(ethanol['A']-ethanol['B']/(t+ethanol['C']))) # bar"
   ]
  },
  {
   "cell_type": "markdown",
   "metadata": {},
   "source": [
    "*** VLE calculations ***"
   ]
  },
  {
   "cell_type": "markdown",
   "metadata": {},
   "source": [
    "The calculations above can be used to find the saturation temperature given a mole fraction of ethanol (classically defined as species 1) and water (usually defined as species 2 because it is less volatile). The basic algorithm is:\n",
    "1. Calculate an initial guess for saturation temperature (linear interpolation is fine to start)\n",
    "2. Calculate molar volume and mixture binary interaction parameters (using the Wilson model here, although others are available\n",
    "3. Calculate a saturation pressure given the above,\n",
    "4. Re-calculate the saturation temperature given the newly calculated pressure\n",
    "\n",
    "This is an iterative procedure, which usually works well in 10 iterations or less."
   ]
  },
  {
   "cell_type": "code",
   "execution_count": 23,
   "metadata": {},
   "outputs": [],
   "source": [
    "def calculate_VLE_temperature_bubble(x):\n",
    "    # x is mole fraction of most volatile component, usually defined as '1'\n",
    "    # pure ethanol saturation temperature\n",
    "    ethanol_saturation_temperature=calc_tsat_ethanol(reference_pressure)\n",
    "    water_saturation_temperature=calc_tsat_water(reference_pressure)\n",
    "    #print('pure ethanol tsat (@ {:.2f} bar): {:.2f}'.format(reference_pressure,ethanol_saturation_temperature))\n",
    "    #print('pure water tsat (@ {:.2f} bar): {:.2f}'.format(reference_pressure,water_saturation_temperature))\n",
    "    # calculate starting point\n",
    "    t_1=x*ethanol_saturation_temperature+(1.0-x)*water_saturation_temperature\n",
    "    max_iters=10\n",
    "    iters=0\n",
    "    dt_tolerance=0.001\n",
    "    iterate=True\n",
    "    while iterate:\n",
    "        v_1=calc_vm_ethanol(t_1)\n",
    "        v_2=calc_vm_water(t_1)\n",
    "        lam1=calc_activity(x,calc_y(t_1,v_1,v_2,ethanol['activity']),calc_y(t_1,v_2,v_1,water['activity']))\n",
    "        lam2=calc_activity(1.0-x,calc_y(t_1,v_2,v_1,water['activity']),calc_y(t_1,v_1,v_2,ethanol['activity']))\n",
    "        ps=new_psat(x,reference_pressure,t_1,lam1,lam2)\n",
    "        t_next=calc_tsat_ethanol(ps)\n",
    "        iters=iters+1\n",
    "        if iters==max_iters:\n",
    "            iterate=False\n",
    "        if abs(t_next-t_1)<dt_tolerance:\n",
    "            iterate=False\n",
    "        t_1=t_next\n",
    "    return t_1\n",
    "\n",
    "def calculate_vapour_fraction(x):\n",
    "    t=calculate_VLE_temperature_bubble(x)\n",
    "    v_1=calc_vm_ethanol(t)\n",
    "    v_2=calc_vm_water(t)\n",
    "    lam1=calc_activity(x,calc_y(t,v_1,v_2,ethanol['activity']),calc_y(t,v_2,v_1,water['activity']))\n",
    "    return x*lam1*math.exp(ethanol['A']-ethanol['B']/(t+ethanol['C']))/(reference_pressure*bar_to_torr)"
   ]
  },
  {
   "cell_type": "markdown",
   "metadata": {},
   "source": [
    "Example calculation: mole fraction of ethanol, 0.2, should have a saturation pressure of 356.9 deg K"
   ]
  },
  {
   "cell_type": "code",
   "execution_count": 24,
   "metadata": {},
   "outputs": [
    {
     "name": "stdout",
     "output_type": "stream",
     "text": [
      "356.96 deg K\n",
      "vapour fraction at saturation temperature for 0.2 mole fraction is 0.521\n"
     ]
    }
   ],
   "source": [
    "mol_fraction=0.2\n",
    "print('{:.2f} deg K'.format(calculate_VLE_temperature_bubble(mol_fraction)))\n",
    "print('vapour fraction at saturation temperature for {} mole fraction is {:.3f}'.format(mol_fraction,calculate_vapour_fraction(mol_fraction)))"
   ]
  },
  {
   "cell_type": "code",
   "execution_count": 26,
   "metadata": {},
   "outputs": [],
   "source": [
    "xs=np.arange(start=0.0,stop=1.0,step=0.01)\n",
    "y_bubble = [ calculate_VLE_temperature_bubble(x) for x in xs ]\n",
    "x_dew = [ calculate_vapour_fraction(x) for x in xs ]"
   ]
  },
  {
   "cell_type": "code",
   "execution_count": 36,
   "metadata": {},
   "outputs": [
    {
     "data": {
      "image/png": "[encoded data removed]",
      "text/plain": [
       "<Figure size 720x432 with 1 Axes>"
      ]
     },
     "metadata": {
      "needs_background": "light"
     },
     "output_type": "display_data"
    }
   ],
   "source": [
    "font={'family':'sans-serif',\n",
    "         'size':18,\n",
    "         'color':'black'}\n",
    "\n",
    "fig, ax = plt.subplots(figsize=(10,6))\n",
    "ax.plot(xs, y_bubble,color='mediumslateblue',label='bubble')\n",
    "ax.plot(x_dew,y_bubble,color='deeppink',label='dew')\n",
    "\n",
    "ax.set_xlabel('ethanol mol fraction (x)',fontdict=font) \n",
    "ax.set_ylabel('temperature ($\\degree$K)',fontdict=font) \n",
    "ax.set_title('T (x-y) diagram',fontdict=font) \n",
    "plt.xlim(0.0,1.0)\n",
    "ax.grid()\n",
    "plt.legend()\n",
    "\n",
    "plt.show()"
   ]
  },
  {
   "cell_type": "markdown",
   "metadata": {},
   "source": [
    "## volumetric calculations "
   ]
  },
  {
   "cell_type": "markdown",
   "metadata": {},
   "source": [
    "Calculate the excess molar volume for the mixtures to allow relation of mole fraction to ABV%. Using the Redlich-Kister model. "
   ]
  },
  {
   "cell_type": "code",
   "execution_count": 46,
   "metadata": {},
   "outputs": [
    {
     "name": "stdout",
     "output_type": "stream",
     "text": [
      "0.9652100487690609\n"
     ]
    }
   ],
   "source": [
    "def excess_molar_volume_water_ethanol(x,t):\n",
    "    # x is the mol fraction of ethanol\n",
    "    # degrees K\n",
    "    # parameter 1: cm3.mol-1\n",
    "    # parameter 2: cm3.mol-1.K-1\n",
    "    A=-9.054199+0.01572057*t\n",
    "    B=-4.930763+0.01241796*t\n",
    "    C=5.286817-0.01989784*t\n",
    "    Ve=x*(1.0-x)*(A+B*(1.0-2*x)+C*(1.0-2*x)**2)\n",
    "    return Ve\n",
    "\n",
    "def water_ethanol_mixture_density(x_ethanol,t):\n",
    "    ve=excess_molar_volume_water_ethanol(x_ethanol,t)\n",
    "    v1=calc_vm_water(t)\n",
    "    v2=calc_vm_ethanol(t)\n",
    "    vm=ve+((1.0-x_ethanol)*v1+x_ethanol*v2)\n",
    "    return ((1.0-x_ethanol)*18.01528+x_ethanol*46.07)/vm\n",
    "\n",
    "# example: 0.25 mol ethanol (11.515g) + 0.75 mol water (13.51g):= 11.515/(13.51+11.515)*100=46wt%\n",
    "# engineering toolbox gives 0.92 g/cm3\n",
    "print(water_ethanol_mixture_density(0.25,25+273.15))"
   ]
  }
 ],
 "metadata": {
  "kernelspec": {
   "display_name": "Python 3",
   "language": "python",
   "name": "python3"
  },
  "language_info": {
   "codemirror_mode": {
    "name": "ipython",
    "version": 3
   },
   "file_extension": ".py",
   "mimetype": "text/x-python",
   "name": "python",
   "nbconvert_exporter": "python",
   "pygments_lexer": "ipython3",
   "version": "3.7.4"
  }
 },
 "nbformat": 4,
 "nbformat_minor": 2
}
